{
 "cells": [
  {
   "cell_type": "code",
   "execution_count": null,
   "metadata": {},
   "outputs": [],
   "source": []
  },
  {
   "cell_type": "code",
   "execution_count": 249,
   "metadata": {},
   "outputs": [],
   "source": [
    "#%%writefile myfunctions.py\n",
    "import numpy as np, pandas as pd, seaborn as sns, matplotlib.pyplot as plt\n",
    "from sklearn.model_selection import train_test_split\n",
    "from datetime import datetime, timedelta\n",
    "from imblearn.over_sampling import SMOTE\n",
    "from sklearn.preprocessing import PowerTransformer,StandardScaler\n",
    "from pickle import load,dump\n",
    "def cols_types(df:pd.DataFrame):\n",
    "    df['Month']=[datetime.strftime(df['FlightDate'][i],'%m') for i in df.index]\n",
    "    df['DayOfWeek']=[datetime.strftime(df['FlightDate'][i],'%u') for i in df.index]\n",
    "    df['DayofMonth']=[datetime.strftime(df['FlightDate'][i],'%d') for i in df.index]\n",
    "    df['CRSDepTime']=df['CRSDepTime'].apply(lambda x: convert_to_min(x))\n",
    "    df['CRSArrTime']=df['CRSArrTime'].apply(lambda x: convert_to_min(x))\n",
    "    df['Flight_Number_Marketing_Airline']=df['Flight_Number_Marketing_Airline'].astype('object')\n",
    "    df['Flight_Number_Operating_Airline']=df['Flight_Number_Operating_Airline'].astype('object')\n",
    "    return df\n",
    "\n",
    "def convert_to_min(x):\n",
    "    if x<10:\n",
    "        string= '00:0'+str(x)\n",
    "    elif x<60:\n",
    "        string= '00:'+str(x)\n",
    "    elif x<960:\n",
    "        string= '0'+str(x)[0]+':'+str(x)[1:]\n",
    "    else:\n",
    "        string=str(x)[0:2]+':'+str(x)[2:]\n",
    "    dt=datetime.strptime(string,'%H:%M')+timedelta(days=25569)\n",
    "    return dt.timestamp()\n",
    "\n",
    "\n",
    "def outcome(df):\n",
    "    if df['Cancelled']:\n",
    "        return 'Cancelled'\n",
    "    if df['ArrDelayMinutes']>0:\n",
    "        return 'Delayed'\n",
    "    if df['Diverted']:\n",
    "        return 'Diverted'\n",
    "    return 'OK'\n",
    "\n",
    "def filtered(df):\n",
    "    thresh=max(df['FlightDate'])\n",
    "    df=df[thresh<(df['FlightDate']+pd.Timedelta(days=730))]\n",
    "    return df[~df['Diverted']]\n",
    "\n",
    "def add_marketing(df):\n",
    "    companies=df.groupby(['IATA_Code_Operating_Airline','Airline']).agg('count').reset_index()\n",
    "    return {companies['IATA_Code_Operating_Airline'][i]:companies['Airline'][i] for i in range(len(companies))}\n",
    "\n",
    "def clean(df):\n",
    "    if df['FlightDate'].dtype=='object':\n",
    "        df['FlightDate']=pd.to_datetime(df['FlightDate'])\n",
    "    df=filtered(df)\n",
    "    df['result']=df.apply(lambda x: outcome(x), axis=1)\n",
    "    df=cols_types(df)\n",
    "    df['DayofMonth']=df['DayofMonth'].astype('str')\n",
    "    df=df[['Month','DayofMonth','DayOfWeek','Origin', 'Dest','IATA_Code_Marketing_Airline','IATA_Code_Operating_Airline','Flight_Number_Marketing_Airline','Flight_Number_Operating_Airline','ArrDelayMinutes','Distance','CRSDepTime','CRSArrTime','result']] \n",
    "    return df\n",
    "\n",
    "def transformx(df:pd.DataFrame,y1,train:bool=True,x:str=''):\n",
    "    num=df._get_numeric_data()\n",
    "    cat=df.selectdtypes('object')\n",
    "    if train:\n",
    "        PT=PowerTransformer().fit(num,y1)\n",
    "        ST=StandardScaler().fit(num,y1)\n",
    "        with open('../Transformers/PT'+x+'.pkl','wb') as file:\n",
    "            dump(PT,file)\n",
    "        with open('../Scalers/ST'+x+'.pkl','wb') as file:\n",
    "            dump(ST,file)\n",
    "    else:\n",
    "        with open('../Transformers/PT'+x+'.pkl','rb') as file:\n",
    "            PT=load(file)\n",
    "        with open('../Scalers/ST'+x+'.pkl','rb') as file:\n",
    "            ST=load(file)\n",
    "    num=pd.DataFrame(PT.transform(num),columns=num)\n",
    "    num=pd.DataFrame(ST.transform(num),columns=num)\n",
    "\n",
    "    return pd.concat([num,cat],axis=1)\n",
    "\n",
    "def transformy(y1:pdSeries,y2:pd.Series,train:bool=True,x=''):\n",
    "    if train:\n",
    "        PTy=PowerTransformer().fit(y2,y1)\n",
    "        with open('../Transformers/PTy'+x+'.pkl','wb') as file:\n",
    "            dump(PTy,file)\n",
    "        \n"
   ]
  },
  {
   "cell_type": "code",
   "execution_count": 196,
   "metadata": {},
   "outputs": [
    {
     "data": {
      "text/plain": [
       "Index(['FlightDate', 'Airline', 'Origin', 'Dest', 'Cancelled', 'Diverted',\n",
       "       'CRSDepTime', 'DepTime', 'DepDelayMinutes', 'DepDelay', 'ArrTime',\n",
       "       'ArrDelayMinutes', 'AirTime', 'CRSElapsedTime', 'ActualElapsedTime',\n",
       "       'Distance', 'Year', 'Quarter', 'Month', 'DayofMonth', 'DayOfWeek',\n",
       "       'Marketing_Airline_Network', 'Operated_or_Branded_Code_Share_Partners',\n",
       "       'DOT_ID_Marketing_Airline', 'IATA_Code_Marketing_Airline',\n",
       "       'Flight_Number_Marketing_Airline', 'Operating_Airline',\n",
       "       'DOT_ID_Operating_Airline', 'IATA_Code_Operating_Airline',\n",
       "       'Tail_Number', 'Flight_Number_Operating_Airline', 'OriginAirportID',\n",
       "       'OriginAirportSeqID', 'OriginCityMarketID', 'OriginCityName',\n",
       "       'OriginState', 'OriginStateFips', 'OriginStateName', 'OriginWac',\n",
       "       'DestAirportID', 'DestAirportSeqID', 'DestCityMarketID', 'DestCityName',\n",
       "       'DestState', 'DestStateFips', 'DestStateName', 'DestWac', 'DepDel15',\n",
       "       'DepartureDelayGroups', 'DepTimeBlk', 'TaxiOut', 'WheelsOff',\n",
       "       'WheelsOn', 'TaxiIn', 'CRSArrTime', 'ArrDelay', 'ArrDel15',\n",
       "       'ArrivalDelayGroups', 'ArrTimeBlk', 'DistanceGroup',\n",
       "       'DivAirportLandings'],\n",
       "      dtype='object')"
      ]
     },
     "execution_count": 196,
     "metadata": {},
     "output_type": "execute_result"
    }
   ],
   "source": []
  },
  {
   "cell_type": "code",
   "execution_count": 247,
   "metadata": {},
   "outputs": [
    {
     "name": "stdout",
     "output_type": "stream",
     "text": [
      "<class 'pandas.core.frame.DataFrame'>\n",
      "Index: 103629 entries, 0 to 103900\n",
      "Data columns (total 14 columns):\n",
      " #   Column                           Non-Null Count   Dtype  \n",
      "---  ------                           --------------   -----  \n",
      " 0   Month                            103629 non-null  object \n",
      " 1   DayofMonth                       103629 non-null  object \n",
      " 2   DayOfWeek                        103629 non-null  object \n",
      " 3   Origin                           103629 non-null  object \n",
      " 4   Dest                             103629 non-null  object \n",
      " 5   IATA_Code_Marketing_Airline      103629 non-null  object \n",
      " 6   IATA_Code_Operating_Airline      103629 non-null  object \n",
      " 7   Flight_Number_Marketing_Airline  103629 non-null  object \n",
      " 8   Flight_Number_Operating_Airline  103629 non-null  object \n",
      " 9   ArrDelayMinutes                  101257 non-null  float64\n",
      " 10  Distance                         103629 non-null  float64\n",
      " 11  CRSDepTime                       103629 non-null  float64\n",
      " 12  CRSArrTime                       103629 non-null  float64\n",
      " 13  result                           103629 non-null  object \n",
      "dtypes: float64(4), object(10)\n",
      "memory usage: 15.9+ MB\n"
     ]
    }
   ],
   "source": [
    "df2=pd.read_csv('../Data/Raw/sample.csv')\n",
    "df2=clean(df2)\n",
    "df\n"
   ]
  },
  {
   "cell_type": "code",
   "execution_count": null,
   "metadata": {},
   "outputs": [],
   "source": [
    "X_train, X_test, Y_train, Y_test"
   ]
  }
 ],
 "metadata": {
  "kernelspec": {
   "display_name": "base",
   "language": "python",
   "name": "python3"
  },
  "language_info": {
   "codemirror_mode": {
    "name": "ipython",
    "version": 3
   },
   "file_extension": ".py",
   "mimetype": "text/x-python",
   "name": "python",
   "nbconvert_exporter": "python",
   "pygments_lexer": "ipython3",
   "version": "3.10.9"
  },
  "orig_nbformat": 4
 },
 "nbformat": 4,
 "nbformat_minor": 2
}
